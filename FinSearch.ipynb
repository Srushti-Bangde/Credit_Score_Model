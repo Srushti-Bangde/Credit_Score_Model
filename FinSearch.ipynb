{
  "nbformat": 4,
  "nbformat_minor": 0,
  "metadata": {
    "colab": {
      "provenance": []
    },
    "kernelspec": {
      "name": "python3",
      "display_name": "Python 3"
    },
    "language_info": {
      "name": "python"
    }
  },
  "cells": [
    {
      "cell_type": "markdown",
      "source": [
        "# Credit Score Model"
      ],
      "metadata": {
        "id": "8uNjqp50UTdl"
      }
    },
    {
      "cell_type": "markdown",
      "source": [
        "Credit score models are statistical models designed to evaluate the creditworthiness of individuals or entities, typically when they apply for loans, credit cards, mortgages, or other forms of credit. These models use historical credit data and various financial and non-financial factors to predict the likelihood of a borrower defaulting on their credit obligations. The primary goal of credit score models is to assist lenders and financial institutions in making informed decisions about whether to approve or deny credit applications.\n",
        "\n",
        "Credit score models serve several important purposes:\n",
        "\n",
        "1. **Risk Assessment**: Credit score models help lenders assess the risk associated with lending money to a particular individual or entity. By analyzing various factors, the model estimates the probability of the borrower defaulting on their credit obligations in the future.\n",
        "\n",
        "2. **Decision Making**: Lenders use credit scores to make quick and consistent decisions about whether to approve or decline credit applications. The credit score serves as a standardized measure that helps lenders compare different applicants.\n",
        "\n",
        "3. **Interest Rates and Terms**: Credit scores also influence the terms of credit offers. Borrowers with higher credit scores are more likely to receive favorable interest rates and terms, while those with lower scores might face higher rates or more stringent conditions.\n",
        "\n",
        "4. **Portfolio Management**: Credit score models assist lenders in managing their loan portfolios. By categorizing borrowers into different risk levels, lenders can effectively allocate resources and set risk management strategies.\n",
        "\n",
        "5. **Regulatory Compliance**: In many countries, lenders are required to comply with regulations that mandate responsible lending practices. Credit score models help lenders ensure compliance by objectively assessing a borrower's creditworthiness.\n",
        "\n",
        "6. **Personal Finance Awareness**: Credit scores also provide individuals with insights into their own credit health. People can use their credit scores as indicators of their financial management practices and make informed decisions to improve their credit profiles.\n",
        "\n",
        "Credit score models typically consider various factors when calculating a credit score. These factors may include:\n",
        "\n",
        "- Payment history: The record of past payments, including any late payments or defaults.\n",
        "- Credit utilization: The ratio of credit used to the total available credit limit.\n",
        "- Length of credit history: The duration of time credit accounts have been open.\n",
        "- Types of credit: The mix of credit types, such as credit cards, mortgages, and loans.\n",
        "- New credit inquiries: The recent applications for credit, which may indicate potential financial stress.\n",
        "\n",
        "Different credit bureaus and financial institutions may use different credit scoring models, each with its own algorithm and scale. The most well-known credit score model is the FICO score, developed by the Fair Isaac Corporation, which ranges from 300 to 850. Other models, such as VantageScore, have gained popularity as well.\n",
        "\n",
        "In essence, credit score models play a crucial role in the lending industry by providing a standardized assessment of credit risk, facilitating fair lending practices, and helping individuals manage their credit responsibly."
      ],
      "metadata": {
        "id": "20_yHN_jTw_8"
      }
    },
    {
      "cell_type": "markdown",
      "source": [
        "To build and deploy a credit score model, you'll need various Python libraries and modules. Here are some essential modules that you would need to install:\n",
        "\n",
        "1. **scikit-learn**: A popular machine learning library that includes various algorithms and tools for building predictive models, including classification models for credit scoring.\n",
        "\n",
        "2. **pandas**: A data manipulation and analysis library that helps in loading, cleaning, and preprocessing datasets.\n",
        "\n",
        "3. **numpy**: A fundamental package for scientific computing with Python, used for numerical operations and array manipulation.\n",
        "\n",
        "4. **matplotlib** and **seaborn**: Data visualization libraries that allow you to create visual representations of your data and model results.\n",
        "\n",
        "5. **gradio**: If you want to create an interactive interface for your model, you can use Gradio to build web-based interfaces without requiring extensive web development knowledge.\n",
        "\n",
        "You can install these modules using the following commands in your Python environment (such as Anaconda or a virtual environment):\n",
        "\n",
        "```bash\n",
        "pip install scikit-learn pandas numpy matplotlib seaborn gradio\n",
        "```\n"
      ],
      "metadata": {
        "id": "EpOnd708T_4H"
      }
    },
    {
      "cell_type": "code",
      "execution_count": 15,
      "metadata": {
        "colab": {
          "base_uri": "https://localhost:8080/",
          "height": 0
        },
        "id": "1xhmJAx6Jnd4",
        "outputId": "0f651780-de85-43f2-f535-d788006bcb58"
      },
      "outputs": [
        {
          "output_type": "stream",
          "name": "stdout",
          "text": [
            "Requirement already satisfied: scikit-learn in /usr/local/lib/python3.10/dist-packages (1.2.2)\n",
            "Requirement already satisfied: pandas in /usr/local/lib/python3.10/dist-packages (1.5.3)\n",
            "Requirement already satisfied: numpy>=1.17.3 in /usr/local/lib/python3.10/dist-packages (from scikit-learn) (1.23.5)\n",
            "Requirement already satisfied: scipy>=1.3.2 in /usr/local/lib/python3.10/dist-packages (from scikit-learn) (1.10.1)\n",
            "Requirement already satisfied: joblib>=1.1.1 in /usr/local/lib/python3.10/dist-packages (from scikit-learn) (1.3.2)\n",
            "Requirement already satisfied: threadpoolctl>=2.0.0 in /usr/local/lib/python3.10/dist-packages (from scikit-learn) (3.2.0)\n",
            "Requirement already satisfied: python-dateutil>=2.8.1 in /usr/local/lib/python3.10/dist-packages (from pandas) (2.8.2)\n",
            "Requirement already satisfied: pytz>=2020.1 in /usr/local/lib/python3.10/dist-packages (from pandas) (2023.3)\n",
            "Requirement already satisfied: six>=1.5 in /usr/local/lib/python3.10/dist-packages (from python-dateutil>=2.8.1->pandas) (1.16.0)\n"
          ]
        }
      ],
      "source": [
        "!pip install scikit-learn pandas"
      ]
    },
    {
      "cell_type": "code",
      "source": [
        "!pip install seaborn pandas scikit-learn"
      ],
      "metadata": {
        "colab": {
          "base_uri": "https://localhost:8080/",
          "height": 0
        },
        "id": "0uEQHgaoJqwi",
        "outputId": "1550d6b0-9fc6-48b4-84b4-0d24a9ff881c"
      },
      "execution_count": 16,
      "outputs": [
        {
          "output_type": "stream",
          "name": "stdout",
          "text": [
            "Requirement already satisfied: seaborn in /usr/local/lib/python3.10/dist-packages (0.12.2)\n",
            "Requirement already satisfied: pandas in /usr/local/lib/python3.10/dist-packages (1.5.3)\n",
            "Requirement already satisfied: scikit-learn in /usr/local/lib/python3.10/dist-packages (1.2.2)\n",
            "Requirement already satisfied: numpy!=1.24.0,>=1.17 in /usr/local/lib/python3.10/dist-packages (from seaborn) (1.23.5)\n",
            "Requirement already satisfied: matplotlib!=3.6.1,>=3.1 in /usr/local/lib/python3.10/dist-packages (from seaborn) (3.7.1)\n",
            "Requirement already satisfied: python-dateutil>=2.8.1 in /usr/local/lib/python3.10/dist-packages (from pandas) (2.8.2)\n",
            "Requirement already satisfied: pytz>=2020.1 in /usr/local/lib/python3.10/dist-packages (from pandas) (2023.3)\n",
            "Requirement already satisfied: scipy>=1.3.2 in /usr/local/lib/python3.10/dist-packages (from scikit-learn) (1.10.1)\n",
            "Requirement already satisfied: joblib>=1.1.1 in /usr/local/lib/python3.10/dist-packages (from scikit-learn) (1.3.2)\n",
            "Requirement already satisfied: threadpoolctl>=2.0.0 in /usr/local/lib/python3.10/dist-packages (from scikit-learn) (3.2.0)\n",
            "Requirement already satisfied: contourpy>=1.0.1 in /usr/local/lib/python3.10/dist-packages (from matplotlib!=3.6.1,>=3.1->seaborn) (1.1.0)\n",
            "Requirement already satisfied: cycler>=0.10 in /usr/local/lib/python3.10/dist-packages (from matplotlib!=3.6.1,>=3.1->seaborn) (0.11.0)\n",
            "Requirement already satisfied: fonttools>=4.22.0 in /usr/local/lib/python3.10/dist-packages (from matplotlib!=3.6.1,>=3.1->seaborn) (4.42.1)\n",
            "Requirement already satisfied: kiwisolver>=1.0.1 in /usr/local/lib/python3.10/dist-packages (from matplotlib!=3.6.1,>=3.1->seaborn) (1.4.4)\n",
            "Requirement already satisfied: packaging>=20.0 in /usr/local/lib/python3.10/dist-packages (from matplotlib!=3.6.1,>=3.1->seaborn) (23.1)\n",
            "Requirement already satisfied: pillow>=6.2.0 in /usr/local/lib/python3.10/dist-packages (from matplotlib!=3.6.1,>=3.1->seaborn) (9.4.0)\n",
            "Requirement already satisfied: pyparsing>=2.3.1 in /usr/local/lib/python3.10/dist-packages (from matplotlib!=3.6.1,>=3.1->seaborn) (3.1.1)\n",
            "Requirement already satisfied: six>=1.5 in /usr/local/lib/python3.10/dist-packages (from python-dateutil>=2.8.1->pandas) (1.16.0)\n"
          ]
        }
      ]
    },
    {
      "cell_type": "code",
      "source": [
        "import pandas as pd\n",
        "from sklearn.model_selection import train_test_split\n",
        "from sklearn.preprocessing import StandardScaler\n",
        "from sklearn.linear_model import LogisticRegression\n",
        "from sklearn.metrics import accuracy_score, classification_report, confusion_matrix, roc_auc_score\n",
        "\n",
        "# Load the dataset\n",
        "url = \"https://archive.ics.uci.edu/ml/machine-learning-databases/00350/default%20of%20credit%20card%20clients.xls\"\n",
        "data = pd.read_excel(url, header=1)\n",
        "\n",
        "# Split features and target variable\n",
        "X = data.drop('default payment next month', axis=1)\n",
        "y = data['default payment next month']\n",
        "\n",
        "# Split the dataset into training and testing sets\n",
        "X_train, X_test, y_train, y_test = train_test_split(X, y, test_size=0.2, random_state=42)\n",
        "\n",
        "# Standardize features\n",
        "scaler = StandardScaler()\n",
        "X_train_scaled = scaler.fit_transform(X_train)\n",
        "X_test_scaled = scaler.transform(X_test)\n",
        "\n",
        "# Initialize and train the model\n",
        "model = LogisticRegression()\n",
        "model.fit(X_train_scaled, y_train)\n",
        "\n",
        "# Make predictions on the test set\n",
        "y_pred = model.predict(X_test_scaled)\n",
        "\n",
        "# Calculate accuracy\n",
        "accuracy = accuracy_score(y_test, y_pred)\n",
        "print(f\"Accuracy: {accuracy:.2f}\")\n",
        "\n",
        "# Print classification report and confusion matrix\n",
        "print(classification_report(y_test, y_pred))\n",
        "print(\"Confusion Matrix:\")\n",
        "print(confusion_matrix(y_test, y_pred))\n",
        "\n",
        "# Calculate ROC AUC score\n",
        "roc_auc = roc_auc_score(y_test, y_pred)\n",
        "print(f\"ROC AUC Score: {roc_auc:.2f}\")"
      ],
      "metadata": {
        "colab": {
          "base_uri": "https://localhost:8080/",
          "height": 0
        },
        "id": "O_1l5MhyLOc6",
        "outputId": "d7c15fbc-4a3c-4744-d025-b375f6a7c669"
      },
      "execution_count": 17,
      "outputs": [
        {
          "output_type": "stream",
          "name": "stdout",
          "text": [
            "Accuracy: 0.81\n",
            "              precision    recall  f1-score   support\n",
            "\n",
            "           0       0.82      0.97      0.89      4687\n",
            "           1       0.69      0.24      0.35      1313\n",
            "\n",
            "    accuracy                           0.81      6000\n",
            "   macro avg       0.76      0.60      0.62      6000\n",
            "weighted avg       0.79      0.81      0.77      6000\n",
            "\n",
            "Confusion Matrix:\n",
            "[[4550  137]\n",
            " [1003  310]]\n",
            "ROC AUC Score: 0.60\n"
          ]
        }
      ]
    },
    {
      "cell_type": "code",
      "source": [
        "!pip install gradio"
      ],
      "metadata": {
        "colab": {
          "base_uri": "https://localhost:8080/",
          "height": 0
        },
        "id": "MIRAobsTMPI6",
        "outputId": "c6b36f4a-0128-4f31-8a96-7b8ad74480a7"
      },
      "execution_count": 18,
      "outputs": [
        {
          "output_type": "stream",
          "name": "stdout",
          "text": [
            "Requirement already satisfied: gradio in /usr/local/lib/python3.10/dist-packages (3.41.2)\n",
            "Requirement already satisfied: aiofiles<24.0,>=22.0 in /usr/local/lib/python3.10/dist-packages (from gradio) (23.2.1)\n",
            "Requirement already satisfied: altair<6.0,>=4.2.0 in /usr/local/lib/python3.10/dist-packages (from gradio) (4.2.2)\n",
            "Requirement already satisfied: fastapi in /usr/local/lib/python3.10/dist-packages (from gradio) (0.103.0)\n",
            "Requirement already satisfied: ffmpy in /usr/local/lib/python3.10/dist-packages (from gradio) (0.3.1)\n",
            "Requirement already satisfied: gradio-client==0.5.0 in /usr/local/lib/python3.10/dist-packages (from gradio) (0.5.0)\n",
            "Requirement already satisfied: httpx in /usr/local/lib/python3.10/dist-packages (from gradio) (0.24.1)\n",
            "Requirement already satisfied: huggingface-hub>=0.14.0 in /usr/local/lib/python3.10/dist-packages (from gradio) (0.16.4)\n",
            "Requirement already satisfied: importlib-resources<7.0,>=1.3 in /usr/local/lib/python3.10/dist-packages (from gradio) (6.0.1)\n",
            "Requirement already satisfied: jinja2<4.0 in /usr/local/lib/python3.10/dist-packages (from gradio) (3.1.2)\n",
            "Requirement already satisfied: markupsafe~=2.0 in /usr/local/lib/python3.10/dist-packages (from gradio) (2.1.3)\n",
            "Requirement already satisfied: matplotlib~=3.0 in /usr/local/lib/python3.10/dist-packages (from gradio) (3.7.1)\n",
            "Requirement already satisfied: numpy~=1.0 in /usr/local/lib/python3.10/dist-packages (from gradio) (1.23.5)\n",
            "Requirement already satisfied: orjson~=3.0 in /usr/local/lib/python3.10/dist-packages (from gradio) (3.9.5)\n",
            "Requirement already satisfied: packaging in /usr/local/lib/python3.10/dist-packages (from gradio) (23.1)\n",
            "Requirement already satisfied: pandas<3.0,>=1.0 in /usr/local/lib/python3.10/dist-packages (from gradio) (1.5.3)\n",
            "Requirement already satisfied: pillow<11.0,>=8.0 in /usr/local/lib/python3.10/dist-packages (from gradio) (9.4.0)\n",
            "Requirement already satisfied: pydantic!=1.8,!=1.8.1,!=2.0.0,!=2.0.1,<3.0.0,>=1.7.4 in /usr/local/lib/python3.10/dist-packages (from gradio) (2.2.1)\n",
            "Requirement already satisfied: pydub in /usr/local/lib/python3.10/dist-packages (from gradio) (0.25.1)\n",
            "Requirement already satisfied: python-multipart in /usr/local/lib/python3.10/dist-packages (from gradio) (0.0.6)\n",
            "Requirement already satisfied: pyyaml<7.0,>=5.0 in /usr/local/lib/python3.10/dist-packages (from gradio) (6.0.1)\n",
            "Requirement already satisfied: requests~=2.0 in /usr/local/lib/python3.10/dist-packages (from gradio) (2.31.0)\n",
            "Requirement already satisfied: semantic-version~=2.0 in /usr/local/lib/python3.10/dist-packages (from gradio) (2.10.0)\n",
            "Requirement already satisfied: typing-extensions~=4.0 in /usr/local/lib/python3.10/dist-packages (from gradio) (4.7.1)\n",
            "Requirement already satisfied: uvicorn>=0.14.0 in /usr/local/lib/python3.10/dist-packages (from gradio) (0.23.2)\n",
            "Requirement already satisfied: websockets<12.0,>=10.0 in /usr/local/lib/python3.10/dist-packages (from gradio) (11.0.3)\n",
            "Requirement already satisfied: fsspec in /usr/local/lib/python3.10/dist-packages (from gradio-client==0.5.0->gradio) (2023.6.0)\n",
            "Requirement already satisfied: entrypoints in /usr/local/lib/python3.10/dist-packages (from altair<6.0,>=4.2.0->gradio) (0.4)\n",
            "Requirement already satisfied: jsonschema>=3.0 in /usr/local/lib/python3.10/dist-packages (from altair<6.0,>=4.2.0->gradio) (4.19.0)\n",
            "Requirement already satisfied: toolz in /usr/local/lib/python3.10/dist-packages (from altair<6.0,>=4.2.0->gradio) (0.12.0)\n",
            "Requirement already satisfied: filelock in /usr/local/lib/python3.10/dist-packages (from huggingface-hub>=0.14.0->gradio) (3.12.2)\n",
            "Requirement already satisfied: tqdm>=4.42.1 in /usr/local/lib/python3.10/dist-packages (from huggingface-hub>=0.14.0->gradio) (4.66.1)\n",
            "Requirement already satisfied: contourpy>=1.0.1 in /usr/local/lib/python3.10/dist-packages (from matplotlib~=3.0->gradio) (1.1.0)\n",
            "Requirement already satisfied: cycler>=0.10 in /usr/local/lib/python3.10/dist-packages (from matplotlib~=3.0->gradio) (0.11.0)\n",
            "Requirement already satisfied: fonttools>=4.22.0 in /usr/local/lib/python3.10/dist-packages (from matplotlib~=3.0->gradio) (4.42.1)\n",
            "Requirement already satisfied: kiwisolver>=1.0.1 in /usr/local/lib/python3.10/dist-packages (from matplotlib~=3.0->gradio) (1.4.4)\n",
            "Requirement already satisfied: pyparsing>=2.3.1 in /usr/local/lib/python3.10/dist-packages (from matplotlib~=3.0->gradio) (3.1.1)\n",
            "Requirement already satisfied: python-dateutil>=2.7 in /usr/local/lib/python3.10/dist-packages (from matplotlib~=3.0->gradio) (2.8.2)\n",
            "Requirement already satisfied: pytz>=2020.1 in /usr/local/lib/python3.10/dist-packages (from pandas<3.0,>=1.0->gradio) (2023.3)\n",
            "Requirement already satisfied: annotated-types>=0.4.0 in /usr/local/lib/python3.10/dist-packages (from pydantic!=1.8,!=1.8.1,!=2.0.0,!=2.0.1,<3.0.0,>=1.7.4->gradio) (0.5.0)\n",
            "Requirement already satisfied: pydantic-core==2.6.1 in /usr/local/lib/python3.10/dist-packages (from pydantic!=1.8,!=1.8.1,!=2.0.0,!=2.0.1,<3.0.0,>=1.7.4->gradio) (2.6.1)\n",
            "Requirement already satisfied: charset-normalizer<4,>=2 in /usr/local/lib/python3.10/dist-packages (from requests~=2.0->gradio) (3.2.0)\n",
            "Requirement already satisfied: idna<4,>=2.5 in /usr/local/lib/python3.10/dist-packages (from requests~=2.0->gradio) (3.4)\n",
            "Requirement already satisfied: urllib3<3,>=1.21.1 in /usr/local/lib/python3.10/dist-packages (from requests~=2.0->gradio) (2.0.4)\n",
            "Requirement already satisfied: certifi>=2017.4.17 in /usr/local/lib/python3.10/dist-packages (from requests~=2.0->gradio) (2023.7.22)\n",
            "Requirement already satisfied: click>=7.0 in /usr/local/lib/python3.10/dist-packages (from uvicorn>=0.14.0->gradio) (8.1.7)\n",
            "Requirement already satisfied: h11>=0.8 in /usr/local/lib/python3.10/dist-packages (from uvicorn>=0.14.0->gradio) (0.14.0)\n",
            "Requirement already satisfied: starlette<0.28.0,>=0.27.0 in /usr/local/lib/python3.10/dist-packages (from fastapi->gradio) (0.27.0)\n",
            "Requirement already satisfied: httpcore<0.18.0,>=0.15.0 in /usr/local/lib/python3.10/dist-packages (from httpx->gradio) (0.17.3)\n",
            "Requirement already satisfied: sniffio in /usr/local/lib/python3.10/dist-packages (from httpx->gradio) (1.3.0)\n",
            "Requirement already satisfied: anyio<5.0,>=3.0 in /usr/local/lib/python3.10/dist-packages (from httpcore<0.18.0,>=0.15.0->httpx->gradio) (3.7.1)\n",
            "Requirement already satisfied: attrs>=22.2.0 in /usr/local/lib/python3.10/dist-packages (from jsonschema>=3.0->altair<6.0,>=4.2.0->gradio) (23.1.0)\n",
            "Requirement already satisfied: jsonschema-specifications>=2023.03.6 in /usr/local/lib/python3.10/dist-packages (from jsonschema>=3.0->altair<6.0,>=4.2.0->gradio) (2023.7.1)\n",
            "Requirement already satisfied: referencing>=0.28.4 in /usr/local/lib/python3.10/dist-packages (from jsonschema>=3.0->altair<6.0,>=4.2.0->gradio) (0.30.2)\n",
            "Requirement already satisfied: rpds-py>=0.7.1 in /usr/local/lib/python3.10/dist-packages (from jsonschema>=3.0->altair<6.0,>=4.2.0->gradio) (0.9.2)\n",
            "Requirement already satisfied: six>=1.5 in /usr/local/lib/python3.10/dist-packages (from python-dateutil>=2.7->matplotlib~=3.0->gradio) (1.16.0)\n",
            "Requirement already satisfied: exceptiongroup in /usr/local/lib/python3.10/dist-packages (from anyio<5.0,>=3.0->httpcore<0.18.0,>=0.15.0->httpx->gradio) (1.1.3)\n"
          ]
        }
      ]
    },
    {
      "cell_type": "markdown",
      "source": [
        "A detailed explanation for each code cell to help you understand the purpose and functionality of each step.\n",
        "\n",
        "#### Code Cell 1:\n",
        "\n",
        "```python\n",
        "# Import necessary libraries\n",
        "import gradio as gr\n",
        "from sklearn.ensemble import RandomForestClassifier\n",
        "from sklearn.preprocessing import LabelEncoder\n",
        "```\n",
        "\n",
        "Explanation:\n",
        "- In this cell, we start by importing the required libraries.\n",
        "- `gradio` is imported to create the interactive interface for the model.\n",
        "- `RandomForestClassifier` is imported from scikit-learn to use it as the machine learning model.\n",
        "- `LabelEncoder` is imported to convert categorical features into numerical values.\n",
        "\n",
        "#### Code Cell 2:\n",
        "\n",
        "```python\n",
        "# Load a better model (Random Forest Classifier) for credit default prediction\n",
        "model = RandomForestClassifier(n_estimators=100, random_state=42)\n",
        "```\n",
        "\n",
        "Explanation:\n",
        "- Here, we initialize a Random Forest Classifier model with 100 estimators (trees) and a random seed of 42 for reproducibility.\n",
        "- The model will be used for predicting whether a credit card user will default on their payment next month.\n",
        "\n",
        "#### Code Cell 3:\n",
        "\n",
        "```python\n",
        "# Load the dataset and preprocess it\n",
        "url = \"https://archive.ics.uci.edu/ml/machine-learning-databases/00350/default%20of%20credit%20card%20clients.xls\"\n",
        "data = pd.read_excel(url, header=1)\n",
        "```\n",
        "\n",
        "Explanation:\n",
        "- We provide the URL to the dataset \"default of credit card clients\" from the UCI Machine Learning Repository.\n",
        "- The dataset is loaded using `pd.read_excel` and headers are specified to skip the first row.\n",
        "\n",
        "#### Code Cell 4:\n",
        "\n",
        "```python\n",
        "# Convert categorical features to numerical using Label Encoding\n",
        "label_encoder = LabelEncoder()\n",
        "categorical_features = ['SEX', 'EDUCATION', 'MARRIAGE']\n",
        "for feature in categorical_features:\n",
        "    data[feature] = label_encoder.fit_transform(data[feature])\n",
        "```\n",
        "\n",
        "Explanation:\n",
        "- We create a `LabelEncoder` instance to convert categorical features to numerical values.\n",
        "- The categorical features ['SEX', 'EDUCATION', 'MARRIAGE'] are looped through and each feature's values are transformed using label encoding.\n",
        "\n",
        "#### Code Cell 5:\n",
        "\n",
        "```python\n",
        "# Split features and target variable\n",
        "X = data.drop('default payment next month', axis=1)\n",
        "y = data['default payment next month']\n",
        "```\n",
        "\n",
        "Explanation:\n",
        "- The dataset is divided into features (`X`) and the target variable (`y`).\n",
        "- We drop the column 'default payment next month' from the features to obtain `X`, and we extract the target variable to `y`.\n",
        "\n",
        "#### Code Cell 6:\n",
        "\n",
        "```python\n",
        "# Train the Random Forest model\n",
        "model.fit(X, y)\n",
        "```\n",
        "\n",
        "Explanation:\n",
        "- The Random Forest model is trained using the features (`X`) and the target variable (`y`) from the preprocessed dataset.\n",
        "\n",
        "#### Code Cell 7:\n",
        "\n",
        "```python\n",
        "# Define a function to predict credit default based on user inputs\n",
        "def predict_credit_default(sex, education, marriage, age, limit_balance, bill_amt1, pay_amt1):\n",
        "    features = [sex, education, marriage, age, limit_balance, bill_amt1, pay_amt1]\n",
        "    prediction = model.predict([features])[0]\n",
        "    return \"Default\" if prediction == 1 else \"No Default\"\n",
        "```\n",
        "\n",
        "Explanation:\n",
        "- Here, we define a function named `predict_credit_default` that takes inputs representing user information (gender, education, marital status, age, etc.).\n",
        "- The function uses the trained model to predict whether the user will default on their payment.\n",
        "\n",
        "#### Code Cell 8:\n",
        "\n",
        "```python\n",
        "# Create the Gradio interface\n",
        "iface = gr.Interface(\n",
        "    fn=predict_credit_default,\n",
        "    inputs=[\n",
        "        gr.inputs.Dropdown(['Male', 'Female'], label=\"Gender\"),\n",
        "        gr.inputs.Dropdown(['Graduate School', 'University', 'High School', 'Others'], label=\"Education\"),\n",
        "        gr.inputs.Dropdown(['Married', 'Single', 'Others'], label=\"Marital Status\"),\n",
        "        gr.inputs.Number(label=\"Age\"),\n",
        "        gr.inputs.Number(label=\"Credit Limit\"),\n",
        "        gr.inputs.Number(label=\"Bill Amount (Last Month)\"),\n",
        "        gr.inputs.Number(label=\"Payment Amount (Last Month)\")\n",
        "    ],\n",
        "    outputs=\"text\",\n",
        "    live=True,\n",
        "    title=\"Credit Card Default Prediction\",\n",
        "    description=\"Predict if a credit card user will default on their payment next month based on various features.\"\n",
        ")\n",
        "```\n",
        "\n",
        "Explanation:\n",
        "- The Gradio interface is created using the `gr.Interface` class.\n",
        "- The input elements are defined using `gr.inputs` with appropriate labels for each feature.\n",
        "- The `outputs` parameter is set to \"text\" to display the prediction result.\n",
        "- Other parameters like `live`, `title`, and `description` are set to customize the interface's behavior and appearance.\n",
        "\n",
        "#### Code Cell 9:\n",
        "\n",
        "```python\n",
        "# Launch the Gradio interface\n",
        "iface.launch()\n",
        "```\n",
        "\n",
        "Explanation:\n",
        "- The interface created in the previous step is launched using the `launch()` method.\n",
        "- When executed, the interface opens in a new window in your browser, allowing you to interact with the model and receive predictions.\n",
        "\n",
        "These detailed explanations provide a clear understanding of each code cell's role in building the interactive credit card default prediction interface."
      ],
      "metadata": {
        "id": "MVGZwsiQOObr"
      }
    },
    {
      "cell_type": "markdown",
      "source": [
        "Based on the provided classification report and confusion matrix, we can interpret the performance of our credit card default prediction model as follows:\n",
        "\n",
        "1. **Accuracy**: Our model achieved an accuracy of 0.81. This means that about 81% of the predictions made by the model are correct. However, accuracy alone might not be the best indicator of model performance, especially when dealing with imbalanced datasets.\n",
        "\n",
        "2. **Precision**: The precision for class 0 (no default) is 0.82, which indicates that out of all the instances that the model predicted as not defaulting, 82% of them were actually non-default. The precision for class 1 (default) is 0.69, which means that out of all instances predicted as default, 69% of them were actually defaults.\n",
        "\n",
        "3. **Recall (Sensitivity)**: The recall for class 0 is 0.97, indicating that the model is able to correctly identify 97% of the actual non-default cases. However, the recall for class 1 is 0.24, meaning that the model is capturing only 24% of the actual default cases.\n",
        "\n",
        "4. **F1-Score**: The F1-score is a harmonic mean of precision and recall. The F1-score for class 0 is high at 0.89, indicating a good balance between precision and recall. However, the F1-score for class 1 is lower at 0.35 due to the lower recall.\n",
        "\n",
        "5. **Support**: The support indicates the number of instances in each class.\n",
        "\n",
        "6. **Confusion Matrix**:\n",
        "   - True Positives (TP): 310 (Actual defaults correctly predicted as defaults)\n",
        "   - True Negatives (TN): 4550 (Actual non-defaults correctly predicted as non-defaults)\n",
        "   - False Positives (FP): 137 (Actual non-defaults incorrectly predicted as defaults)\n",
        "   - False Negatives (FN): 1003 (Actual defaults incorrectly predicted as non-defaults)\n",
        "\n",
        "7. **ROC AUC Score**: The ROC AUC score is 0.60. The Receiver Operating Characteristic (ROC) curve evaluates the model's ability to distinguish between classes. An AUC score of 0.5 indicates random guessing, and a score of 1 indicates perfect classification. An AUC score of 0.60 suggests a moderate level of discrimination ability of the model.\n",
        "\n",
        "Interpretation:\n",
        "- Our model has a relatively high accuracy, but this might be misleading due to class imbalance.\n",
        "- The precision and recall for class 0 are quite good, but the model's performance for class 1 (default) is relatively poor.\n",
        "- The F1-score for class 1 is low, indicating that there might be room for improvement in capturing actual defaults.\n",
        "- The ROC AUC score of 0.60 suggests that the model's ability to discriminate between the two classes is moderate.\n",
        "\n",
        "Given the imbalanced nature of the dataset and the relatively low recall for class 1, further model tuning, feature engineering, or using advanced techniques like oversampling or more complex algorithms could potentially improve the model's performance in predicting credit card defaults."
      ],
      "metadata": {
        "id": "iNTLpmF6PM5d"
      }
    },
    {
      "cell_type": "code",
      "source": [
        "import gradio as gr\n",
        "from sklearn.ensemble import RandomForestClassifier\n",
        "from sklearn.preprocessing import LabelEncoder\n",
        "\n",
        "# Load a better model\n",
        "model = RandomForestClassifier(n_estimators=100, random_state=42)\n",
        "\n",
        "# Load the dataset and preprocess\n",
        "url = \"https://archive.ics.uci.edu/ml/machine-learning-databases/00350/default%20of%20credit%20card%20clients.xls\"\n",
        "data = pd.read_excel(url, header=1)\n",
        "\n",
        "# Convert categorical features to numerical using Label Encoding\n",
        "label_encoder = LabelEncoder()\n",
        "categorical_features = ['SEX', 'EDUCATION', 'MARRIAGE']\n",
        "for feature in categorical_features:\n",
        "    data[feature] = label_encoder.fit_transform(data[feature])\n",
        "\n",
        "X = data.drop('default payment next month', axis=1)\n",
        "y = data['default payment next month']\n",
        "\n",
        "# Train the model\n",
        "model.fit(X, y)\n",
        "\n",
        "def predict_credit_default(sex, education, marriage, age, limit_balance, bill_amt1, pay_amt1):\n",
        "    features = [sex, education, marriage, age, limit_balance, bill_amt1, pay_amt1]\n",
        "    prediction = model.predict([features])[0]\n",
        "    return \"Default\" if prediction == 1 else \"No Default\"\n",
        "\n",
        "iface = gr.Interface(\n",
        "    fn=predict_credit_default,\n",
        "    inputs=[\n",
        "        gr.inputs.Dropdown(['Male', 'Female'], label=\"Gender\"),\n",
        "        gr.inputs.Dropdown(['Graduate School', 'University', 'High School', 'Others'], label=\"Education\"),\n",
        "        gr.inputs.Dropdown(['Married', 'Single', 'Others'], label=\"Marital Status\"),\n",
        "        gr.inputs.Number(label=\"Age\"),\n",
        "        gr.inputs.Number(label=\"Credit Limit\"),\n",
        "        gr.inputs.Number(label=\"Bill Amount (Last Month)\"),\n",
        "        gr.inputs.Number(label=\"Payment Amount (Last Month)\")\n",
        "    ],\n",
        "    outputs=\"text\",\n",
        "    live=True,\n",
        "    title=\"Credit Card Default Prediction\",\n",
        "    description=\"Predict if a credit card user will default on their payment next month based on various features.\"\n",
        ")\n",
        "\n",
        "iface.launch()"
      ],
      "metadata": {
        "colab": {
          "base_uri": "https://localhost:8080/",
          "height": 1330
        },
        "id": "vD0UajbRMRyv",
        "outputId": "9b91c36b-650d-48a1-84d5-81f5fcd28ede"
      },
      "execution_count": 19,
      "outputs": [
        {
          "output_type": "stream",
          "name": "stderr",
          "text": [
            "<ipython-input-19-e8fe4c512e41>:32: GradioDeprecationWarning: Usage of gradio.inputs is deprecated, and will not be supported in the future, please import your component from gradio.components\n",
            "  gr.inputs.Dropdown(['Male', 'Female'], label=\"Gender\"),\n",
            "<ipython-input-19-e8fe4c512e41>:32: GradioDeprecationWarning: `optional` parameter is deprecated, and it has no effect\n",
            "  gr.inputs.Dropdown(['Male', 'Female'], label=\"Gender\"),\n",
            "<ipython-input-19-e8fe4c512e41>:33: GradioDeprecationWarning: Usage of gradio.inputs is deprecated, and will not be supported in the future, please import your component from gradio.components\n",
            "  gr.inputs.Dropdown(['Graduate School', 'University', 'High School', 'Others'], label=\"Education\"),\n",
            "<ipython-input-19-e8fe4c512e41>:33: GradioDeprecationWarning: `optional` parameter is deprecated, and it has no effect\n",
            "  gr.inputs.Dropdown(['Graduate School', 'University', 'High School', 'Others'], label=\"Education\"),\n",
            "<ipython-input-19-e8fe4c512e41>:34: GradioDeprecationWarning: Usage of gradio.inputs is deprecated, and will not be supported in the future, please import your component from gradio.components\n",
            "  gr.inputs.Dropdown(['Married', 'Single', 'Others'], label=\"Marital Status\"),\n",
            "<ipython-input-19-e8fe4c512e41>:34: GradioDeprecationWarning: `optional` parameter is deprecated, and it has no effect\n",
            "  gr.inputs.Dropdown(['Married', 'Single', 'Others'], label=\"Marital Status\"),\n",
            "<ipython-input-19-e8fe4c512e41>:35: GradioDeprecationWarning: Usage of gradio.inputs is deprecated, and will not be supported in the future, please import your component from gradio.components\n",
            "  gr.inputs.Number(label=\"Age\"),\n",
            "<ipython-input-19-e8fe4c512e41>:35: GradioDeprecationWarning: `optional` parameter is deprecated, and it has no effect\n",
            "  gr.inputs.Number(label=\"Age\"),\n",
            "<ipython-input-19-e8fe4c512e41>:36: GradioDeprecationWarning: Usage of gradio.inputs is deprecated, and will not be supported in the future, please import your component from gradio.components\n",
            "  gr.inputs.Number(label=\"Credit Limit\"),\n",
            "<ipython-input-19-e8fe4c512e41>:36: GradioDeprecationWarning: `optional` parameter is deprecated, and it has no effect\n",
            "  gr.inputs.Number(label=\"Credit Limit\"),\n",
            "<ipython-input-19-e8fe4c512e41>:37: GradioDeprecationWarning: Usage of gradio.inputs is deprecated, and will not be supported in the future, please import your component from gradio.components\n",
            "  gr.inputs.Number(label=\"Bill Amount (Last Month)\"),\n",
            "<ipython-input-19-e8fe4c512e41>:37: GradioDeprecationWarning: `optional` parameter is deprecated, and it has no effect\n",
            "  gr.inputs.Number(label=\"Bill Amount (Last Month)\"),\n",
            "<ipython-input-19-e8fe4c512e41>:38: GradioDeprecationWarning: Usage of gradio.inputs is deprecated, and will not be supported in the future, please import your component from gradio.components\n",
            "  gr.inputs.Number(label=\"Payment Amount (Last Month)\")\n",
            "<ipython-input-19-e8fe4c512e41>:38: GradioDeprecationWarning: `optional` parameter is deprecated, and it has no effect\n",
            "  gr.inputs.Number(label=\"Payment Amount (Last Month)\")\n",
            "/usr/local/lib/python3.10/dist-packages/gradio/blocks.py:277: UserWarning: api_name predict already exists, using predict_1\n",
            "  warnings.warn(f\"api_name {api_name} already exists, using {api_name_}\")\n",
            "/usr/local/lib/python3.10/dist-packages/gradio/blocks.py:277: UserWarning: api_name predict already exists, using predict_2\n",
            "  warnings.warn(f\"api_name {api_name} already exists, using {api_name_}\")\n",
            "/usr/local/lib/python3.10/dist-packages/gradio/blocks.py:277: UserWarning: api_name predict already exists, using predict_3\n",
            "  warnings.warn(f\"api_name {api_name} already exists, using {api_name_}\")\n",
            "/usr/local/lib/python3.10/dist-packages/gradio/blocks.py:277: UserWarning: api_name predict already exists, using predict_4\n",
            "  warnings.warn(f\"api_name {api_name} already exists, using {api_name_}\")\n",
            "/usr/local/lib/python3.10/dist-packages/gradio/blocks.py:277: UserWarning: api_name predict already exists, using predict_5\n",
            "  warnings.warn(f\"api_name {api_name} already exists, using {api_name_}\")\n",
            "/usr/local/lib/python3.10/dist-packages/gradio/blocks.py:277: UserWarning: api_name predict already exists, using predict_6\n",
            "  warnings.warn(f\"api_name {api_name} already exists, using {api_name_}\")\n"
          ]
        },
        {
          "output_type": "stream",
          "name": "stdout",
          "text": [
            "Colab notebook detected. To show errors in colab notebook, set debug=True in launch()\n",
            "Note: opening Chrome Inspector may crash demo inside Colab notebooks.\n",
            "\n",
            "To create a public link, set `share=True` in `launch()`.\n"
          ]
        },
        {
          "output_type": "display_data",
          "data": {
            "text/plain": [
              "<IPython.core.display.Javascript object>"
            ],
            "application/javascript": [
              "(async (port, path, width, height, cache, element) => {\n",
              "                        if (!google.colab.kernel.accessAllowed && !cache) {\n",
              "                            return;\n",
              "                        }\n",
              "                        element.appendChild(document.createTextNode(''));\n",
              "                        const url = await google.colab.kernel.proxyPort(port, {cache});\n",
              "\n",
              "                        const external_link = document.createElement('div');\n",
              "                        external_link.innerHTML = `\n",
              "                            <div style=\"font-family: monospace; margin-bottom: 0.5rem\">\n",
              "                                Running on <a href=${new URL(path, url).toString()} target=\"_blank\">\n",
              "                                    https://localhost:${port}${path}\n",
              "                                </a>\n",
              "                            </div>\n",
              "                        `;\n",
              "                        element.appendChild(external_link);\n",
              "\n",
              "                        const iframe = document.createElement('iframe');\n",
              "                        iframe.src = new URL(path, url).toString();\n",
              "                        iframe.height = height;\n",
              "                        iframe.allow = \"autoplay; camera; microphone; clipboard-read; clipboard-write;\"\n",
              "                        iframe.width = width;\n",
              "                        iframe.style.border = 0;\n",
              "                        element.appendChild(iframe);\n",
              "                    })(7864, \"/\", \"100%\", 500, false, window.element)"
            ]
          },
          "metadata": {}
        },
        {
          "output_type": "execute_result",
          "data": {
            "text/plain": []
          },
          "metadata": {},
          "execution_count": 19
        }
      ]
    },
    {
      "cell_type": "markdown",
      "source": [
        "Example Input Sets for Gradio Interface:\n",
        "\n",
        "1. Gender: Male \\\\\n",
        "   Education: University \\\\\n",
        "   Marital Status: Married \\\\\n",
        "   Age: 30 \\\\\n",
        "   Credit Limit: 5000 \\\\\n",
        "   Bill Amount (Last Month): 2000 \\\\\n",
        "   Payment Amount (Last Month): 2500\n",
        "\n",
        "2. Gender: Female \\\\\n",
        "   Education: Graduate School \\\\\n",
        "   Marital Status: Single \\\\\n",
        "   Age: 25 \\\\\n",
        "   Credit Limit: 10000 \\\\\n",
        "   Bill Amount (Last Month): 500 \\\\\n",
        "   Payment Amount (Last Month): 500\n",
        "\n",
        "3. Gender: Male \\\\\n",
        "   Education: High School \\\\\n",
        "   Marital Status: Married \\\\\n",
        "   Age: 40 \\\\\n",
        "   Credit Limit: 15000 \\\\\n",
        "   Bill Amount (Last Month): 8000 \\\\\n",
        "   Payment Amount (Last Month): 7000\n",
        "\n",
        "4. Gender: Female \\\\\n",
        "   Education: Others \\\\\n",
        "   Marital Status: Single \\\\\n",
        "   Age: 22 \\\\\n",
        "   Credit Limit: 3000 \\\\\n",
        "   Bill Amount (Last Month): 100 \\\\\n",
        "   Payment Amount (Last Month): 150\n",
        "\n",
        "Feel free to input these examples into the Gradio interface to see the predicted outcomes for each case."
      ],
      "metadata": {
        "id": "QewW3xhePrMV"
      }
    },
    {
      "cell_type": "code",
      "source": [
        "import matplotlib.pyplot as plt\n",
        "import seaborn as sns\n",
        "from sklearn.metrics import confusion_matrix, roc_curve, roc_auc_score\n",
        "\n",
        "\n",
        "# Confusion Matrix\n",
        "cm = confusion_matrix(y_test, y_pred)\n",
        "sns.heatmap(cm, annot=True, fmt=\"d\", cmap=\"Blues\")\n",
        "plt.xlabel('Predicted')\n",
        "plt.ylabel('Actual')\n",
        "plt.title('Confusion Matrix')\n",
        "plt.show()\n",
        "\n",
        "# ROC Curve\n",
        "roc_auc = roc_auc_score(y_test, y_pred)\n",
        "fpr, tpr, thresholds = roc_curve(y_test, y_pred)\n",
        "plt.plot(fpr, tpr, color='darkorange', lw=2, label=f'ROC curve (area = {roc_auc:.2f})')\n",
        "plt.plot([0, 1], [0, 1], color='navy', lw=2, linestyle='--')\n",
        "plt.xlim([0.0, 1.0])\n",
        "plt.ylim([0.0, 1.05])\n",
        "plt.xlabel('False Positive Rate')\n",
        "plt.ylabel('True Positive Rate')\n",
        "plt.title('Receiver Operating Characteristic (ROC)')\n",
        "plt.legend(loc=\"lower right\")\n",
        "plt.show()\n"
      ],
      "metadata": {
        "colab": {
          "base_uri": "https://localhost:8080/",
          "height": 927
        },
        "id": "QdyTNLrIVnf7",
        "outputId": "3d2cb2d2-b6ea-4093-f8f3-be2b01f16821"
      },
      "execution_count": 22,
      "outputs": [
        {
          "output_type": "display_data",
          "data": {
            "text/plain": [
              "<Figure size 640x480 with 2 Axes>"
            ],
            "image/png": "[encoded data removed]"
          },
          "metadata": {}
        },
        {
          "output_type": "display_data",
          "data": {
            "text/plain": [
              "<Figure size 640x480 with 1 Axes>"
            ],
            "image/png": "[encoded data removed]"
          },
          "metadata": {}
        }
      ]
    },
    {
      "cell_type": "markdown",
      "source": [
        "\n",
        "\n",
        "**Confusion Matrix**:\n",
        "\n",
        "The confusion matrix is a tabular representation that shows how well our model's predictions align with the actual outcomes. It breaks down the predictions into four categories:\n",
        "\n",
        "- True Positives (TP): Instances where our model correctly predicted \"Default\" when the actual outcome was \"Default.\"\n",
        "- True Negatives (TN): Instances where our model correctly predicted \"No Default\" when the actual outcome was \"No Default.\"\n",
        "- False Positives (FP): Instances where our model predicted \"Default\" when the actual outcome was \"No Default.\"\n",
        "- False Negatives (FN): Instances where our model predicted \"No Default\" when the actual outcome was \"Default.\"\n",
        "\n",
        "The confusion matrix helps us understand the distribution of these prediction outcomes and assess the model's accuracy, precision, recall, and F1-score.\n",
        "\n",
        "**Receiver Operating Characteristic (ROC) Curve**:\n",
        "\n",
        "The ROC curve is a graphical representation of our model's ability to distinguish between the positive and negative classes at various thresholds. The x-axis represents the false positive rate (FPR), and the y-axis represents the true positive rate (TPR).\n",
        "\n",
        "- True Positive Rate (Sensitivity): This is the proportion of actual positive cases that were correctly predicted as positive by the model.\n",
        "- False Positive Rate: This is the proportion of actual negative cases that were incorrectly predicted as positive by the model.\n",
        "\n",
        "The ROC curve helps us evaluate the trade-off between sensitivity and specificity (1 - false positive rate) as the prediction threshold changes. The area under the ROC curve (AUC-ROC) is a common metric that summarizes the overall performance of the model. An AUC value closer to 1 indicates better discrimination and performance.\n",
        "\n",
        "In summary, these graphs provide insights into the model's ability to correctly classify instances, differentiate between positive and negative cases, and make informed predictions. They help us assess the model's accuracy, precision, recall, and discrimination power, enabling us to make informed decisions about model adjustments and improvements."
      ],
      "metadata": {
        "id": "dSJdPA5SWHqi"
      }
    }
  ]
}